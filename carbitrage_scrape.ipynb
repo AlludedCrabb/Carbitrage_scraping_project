{
 "cells": [
  {
   "cell_type": "code",
   "execution_count": 2,
   "metadata": {},
   "outputs": [
    {
     "name": "stdout",
     "output_type": "stream",
     "text": [
      "Collecting selenium\n",
      "\u001b[?25l  Downloading https://files.pythonhosted.org/packages/80/d6/4294f0b4bce4de0abf13e17190289f9d0613b0a44e5dd6a7f5ca98459853/selenium-3.141.0-py2.py3-none-any.whl (904kB)\n",
      "\u001b[K    100% |████████████████████████████████| 911kB 6.7MB/s \n",
      "\u001b[?25hRequirement already satisfied: urllib3 in /anaconda3/envs/learn-env/lib/python3.6/site-packages (from selenium) (1.23)\n",
      "Installing collected packages: selenium\n",
      "Successfully installed selenium-3.141.0\n"
     ]
    }
   ],
   "source": [
    "!pip install selenium"
   ]
  },
  {
   "cell_type": "code",
   "execution_count": 3,
   "metadata": {},
   "outputs": [
    {
     "name": "stdout",
     "output_type": "stream",
     "text": [
      "Updating Homebrew...\n",
      "\u001b[34m==>\u001b[0m \u001b[1mAuto-updated Homebrew!\u001b[0m\n",
      "Updated 1 tap (homebrew/core).\n",
      "\u001b[34m==>\u001b[0m \u001b[1mNew Formulae\u001b[0m\n",
      "cypher-shell                             scws\n",
      "\u001b[34m==>\u001b[0m \u001b[1mUpdated Formulae\u001b[0m\n",
      "apache-spark        laszip              libebml             opencoarrays\n",
      "aravis              latex2html          libedit             pcapplusplus\n",
      "argyll-cms          latexml             libestr             pdnsrec\n",
      "chronograf          lbdb                libetonyek          presto\n",
      "dfmt                lcdf-typetools      libfabric           r\n",
      "doctl               lgogdownloader      libfixbuf           roll\n",
      "ffmpeg              libb2               libjson-rpc-cpp     rsyslog\n",
      "frps                libbluray           liblinear           rust\n",
      "gradle              libcddb             libltc              rustup-init\n",
      "hebcal              libcdio             libmatroska         silk\n",
      "joplin              libcdr              mkvtoolnix          subversion\n",
      "kyoto-cabinet       libchamplain        netdata             vcdimager\n",
      "kyoto-tycoon        libdap              odpi                yaf\n",
      "\n",
      "\u001b[34m==>\u001b[0m \u001b[1mDownloading https://homebrew.bintray.com/bottles/geckodriver-0.24.0.mojave.b\u001b[0m\n",
      "\u001b[34m==>\u001b[0m \u001b[1mDownloading from https://akamai.bintray.com/a2/a298af36e97630af54412dfd6539a\u001b[0m\n",
      "######################################################################## 100.0%\n",
      "\u001b[34m==>\u001b[0m \u001b[1mPouring geckodriver-0.24.0.mojave.bottle.tar.gz\u001b[0m\n",
      "🍺  /usr/local/Cellar/geckodriver/0.24.0: 7 files, 5.9MB\n"
     ]
    }
   ],
   "source": [
    "!brew install geckodriver"
   ]
  },
  {
   "cell_type": "code",
   "execution_count": 4,
   "metadata": {},
   "outputs": [
    {
     "name": "stdout",
     "output_type": "stream",
     "text": [
      "\u001b[34m==>\u001b[0m \u001b[1mTapping homebrew/cask\u001b[0m\n",
      "Cloning into '/usr/local/Homebrew/Library/Taps/homebrew/homebrew-cask'...\n",
      "remote: Enumerating objects: 4123, done.\u001b[K\n",
      "remote: Counting objects: 100% (4123/4123), done.\u001b[K\n",
      "remote: Compressing objects: 100% (4110/4110), done.\u001b[K\n",
      "remote: Total 4123 (delta 25), reused 847 (delta 11), pack-reused 0\u001b[K\n",
      "Receiving objects: 100% (4123/4123), 1.32 MiB | 9.82 MiB/s, done.\n",
      "Resolving deltas: 100% (25/25), done.\n",
      "Checking out files: 100% (4104/4104), done.\n",
      "Tapped 1 command and 4015 casks (4,129 files, 4.2MB).\n",
      "\u001b[34m==>\u001b[0m \u001b[1mSatisfying dependencies\u001b[0m\n",
      "\u001b[34m==>\u001b[0m \u001b[1mDownloading https://chromedriver.storage.googleapis.com/74.0.3729.6/chromedr\u001b[0m\n",
      "######################################################################## 100.0%\n",
      "\u001b[34m==>\u001b[0m \u001b[1mVerifying SHA-256 checksum for Cask 'chromedriver'.\u001b[0m\n",
      "\u001b[32m==>\u001b[0m \u001b[1mInstalling Cask \u001b[32mchromedriver\u001b[39m\u001b[0m\n",
      "\u001b[34m==>\u001b[0m \u001b[1mLinking Binary 'chromedriver' to '/usr/local/bin/chromedriver'.\u001b[0m\n",
      "🍺  chromedriver was successfully installed!\n"
     ]
    }
   ],
   "source": [
    "!brew cask install chromedriver"
   ]
  },
  {
   "cell_type": "code",
   "execution_count": 5,
   "metadata": {},
   "outputs": [
    {
     "name": "stdout",
     "output_type": "stream",
     "text": [
      "\u001b[34m==>\u001b[0m \u001b[1mSatisfying dependencies\u001b[0m\n",
      "\u001b[34m==>\u001b[0m \u001b[1mDownloading https://download-installer.cdn.mozilla.net/pub/firefox/releases/\u001b[0m\n",
      "######################################################################## 100.0%\n",
      "\u001b[34m==>\u001b[0m \u001b[1mVerifying SHA-256 checksum for Cask 'firefox'.\u001b[0m\n",
      "\u001b[32m==>\u001b[0m \u001b[1mInstalling Cask \u001b[32mfirefox\u001b[39m\u001b[0m\n",
      "\u001b[34m==>\u001b[0m \u001b[1mPurging files for version 66.0.3 of Cask firefox\u001b[0m\n",
      "\u001b[31mError:\u001b[0m It seems there is already an App at '/Applications/Firefox.app'.\n"
     ]
    }
   ],
   "source": [
    "!brew cask install firefox"
   ]
  },
  {
   "cell_type": "code",
   "execution_count": 6,
   "metadata": {},
   "outputs": [],
   "source": [
    "from selenium.webdriver import Firefox"
   ]
  },
  {
   "cell_type": "code",
   "execution_count": 7,
   "metadata": {},
   "outputs": [],
   "source": [
    "import requests\n",
    "import random\n",
    "import time"
   ]
  },
  {
   "cell_type": "code",
   "execution_count": 8,
   "metadata": {},
   "outputs": [],
   "source": [
    "browser = Firefox()"
   ]
  },
  {
   "cell_type": "code",
   "execution_count": 9,
   "metadata": {},
   "outputs": [],
   "source": [
    "url = \"https://www.cars.com/for-sale/searchresults.action/?mdId=22250&mkId=20088&prMx=50000&rd=99999&searchSource=QUICK_FORM&stkTypId=28881&zc=98101\"\n",
    "    "
   ]
  },
  {
   "cell_type": "code",
   "execution_count": 10,
   "metadata": {},
   "outputs": [],
   "source": [
    "browser.get(url)"
   ]
  },
  {
   "cell_type": "code",
   "execution_count": 39,
   "metadata": {},
   "outputs": [],
   "source": [
    "css_price = 'div.page span.listing-row__price'\n",
    "css_mileage = 'div.page span.listing-row__mileage'\n",
    "css_title = 'div.page h2.listing-row__title'\n",
    "css_next_page = 'Next'"
   ]
  },
  {
   "cell_type": "code",
   "execution_count": 40,
   "metadata": {},
   "outputs": [],
   "source": [
    "prices = browser.find_elements_by_css_selector(css_price)\n",
    "mileages = browser.find_elements_by_css_selector(css_mileage)\n",
    "titles = browser.find_elements_by_css_selector(css_title)\n",
    "next_page = browser.find_element_by_link_text(css_next_page)"
   ]
  },
  {
   "cell_type": "code",
   "execution_count": 41,
   "metadata": {},
   "outputs": [],
   "source": [
    "next_page.click()"
   ]
  },
  {
   "cell_type": "code",
   "execution_count": 37,
   "metadata": {},
   "outputs": [],
   "source": [
    "list_prices = [price.text for price in prices]\n",
    "list_mileages = [mileage.text for mileage in mileages]\n",
    "list_titles = [title.text for title in titles]"
   ]
  },
  {
   "cell_type": "code",
   "execution_count": 38,
   "metadata": {},
   "outputs": [
    {
     "name": "stdout",
     "output_type": "stream",
     "text": [
      "['$25,995', '$17,400', '$23,998', '$28,350', '$22,800', '$15,899', '$14,987', '$25,916', '$27,991', '$27,777', '$24,997', '$18,999', '$25,999', '$24,900', '$28,478', '$23,800', '$38,357', '$21,800', '$11,000', '$19,195']\n",
      "['36,497 mi.', '69,105 mi.', '35,579 mi.', '37,607 mi.', '1,247 mi.', '82,649 mi.', '53,072 mi.', '28,482 mi.', '19,991 mi.', '1,827 mi.', '26,816 mi.', '62,680 mi.', '17,595 mi.', '33,647 mi.', '8,731 mi.', '13,556 mi.', '23,909 mi.', '30,558 mi.', '69,902 mi.', '42,693 mi.']\n",
      "['2017 Toyota Tacoma TRD Off Road', '2013 Toyota Tacoma PreRunner', '2016 Toyota Tacoma SR5', '2017 Toyota Tacoma Limited', '2019 Toyota Tacoma SR', '2015 Toyota Tacoma PreRunner', '2010 Toyota Tacoma Access Cab', '2017 Toyota Tacoma SR5', '2017 Toyota Tacoma SR5', '2018 Toyota Tacoma SR5', '2016 Toyota Tacoma SR5', '2009 Toyota Tacoma Double Cab', '2018 Toyota Tacoma SR5', '2016 Toyota Tacoma TRD Sport', '2018 Toyota Tacoma TRD Sport', '2017 Toyota Tacoma SR5', '2017 Toyota Tacoma TRD Pro', '2013 Toyota Tacoma PreRunner', '2012 Toyota Tacoma Base', '2015 Toyota Tacoma PreRunner']\n"
     ]
    }
   ],
   "source": [
    "print(list_prices)\n",
    "print(list_mileages)\n",
    "print(list_titles)"
   ]
  },
  {
   "cell_type": "code",
   "execution_count": null,
   "metadata": {},
   "outputs": [],
   "source": []
  }
 ],
 "metadata": {
  "kernelspec": {
   "display_name": "learn-env",
   "language": "python",
   "name": "learn-env"
  },
  "language_info": {
   "codemirror_mode": {
    "name": "ipython",
    "version": 3
   },
   "file_extension": ".py",
   "mimetype": "text/x-python",
   "name": "python",
   "nbconvert_exporter": "python",
   "pygments_lexer": "ipython3",
   "version": "3.6.6"
  }
 },
 "nbformat": 4,
 "nbformat_minor": 2
}
