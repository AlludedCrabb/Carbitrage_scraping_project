{
 "cells": [
  {
   "cell_type": "code",
   "execution_count": 1,
   "metadata": {},
   "outputs": [],
   "source": [
    "from selenium.webdriver import Firefox\n",
    "from selenium.webdriver.common.keys import Keys"
   ]
  },
  {
   "cell_type": "code",
   "execution_count": 2,
   "metadata": {},
   "outputs": [],
   "source": [
    "import requests\n",
    "import random\n",
    "import time"
   ]
  },
  {
   "cell_type": "code",
   "execution_count": 3,
   "metadata": {},
   "outputs": [],
   "source": [
    "browser = Firefox()"
   ]
  },
  {
   "cell_type": "code",
   "execution_count": 4,
   "metadata": {},
   "outputs": [],
   "source": [
    "url = \"\"\"https://www.cars.com/for-sale/searchresults.action/?\n",
    "mdId=22250&mkId=20088&prMx=50000&rd=99999&searchSource=QUICK_FORM&stkTypId=28881&zc=98101\"\"\"\n",
    "    "
   ]
  },
  {
   "cell_type": "code",
   "execution_count": 5,
   "metadata": {},
   "outputs": [],
   "source": [
    "cars_browser = browser.get(url)"
   ]
  },
  {
   "cell_type": "code",
   "execution_count": 6,
   "metadata": {},
   "outputs": [],
   "source": [
    "# css_price = 'div.page span.listing-row__price'\n",
    "# css_mileage = 'div.page span.listing-row__mileage'\n",
    "# css_title = 'div.page h2.listing-row__title'\n",
    "# css_next_page = 'Next'"
   ]
  },
  {
   "cell_type": "code",
   "execution_count": 7,
   "metadata": {},
   "outputs": [],
   "source": [
    "# prices = browser.find_elements_by_css_selector(css_price)\n",
    "# mileages = browser.find_elements_by_css_selector(css_mileage)\n",
    "# titles = browser.find_elements_by_css_selector(css_title)\n",
    "# next_page = browser.find_element_by_link_text(css_next_page)"
   ]
  },
  {
   "cell_type": "code",
   "execution_count": 8,
   "metadata": {},
   "outputs": [],
   "source": [
    "# list_prices = [price.text for price in prices]\n",
    "# list_mileages = [mileage.text for mileage in mileages]\n",
    "# list_titles = [title.text for title in titles]\n",
    "# list_years = [str(year.text)[:4] for year in titles]"
   ]
  },
  {
   "cell_type": "code",
   "execution_count": 9,
   "metadata": {},
   "outputs": [],
   "source": [
    "# print(list_prices)\n",
    "# print(list_mileages)\n",
    "# print(list_titles)\n",
    "# print(list_years)"
   ]
  },
  {
   "cell_type": "code",
   "execution_count": 11,
   "metadata": {},
   "outputs": [],
   "source": [
    "from mongo_prep import prep_lists_for_mongo\n",
    "from scrape_functions import (get_css_mileage,\n",
    "                              get_css_price,get_css_title_and_year,get_next_page)"
   ]
  },
  {
   "cell_type": "code",
   "execution_count": 12,
   "metadata": {},
   "outputs": [],
   "source": [
    "prices = get_css_price(browser)\n"
   ]
  },
  {
   "cell_type": "code",
   "execution_count": 13,
   "metadata": {},
   "outputs": [],
   "source": [
    "mileages = get_css_mileage(browser)"
   ]
  },
  {
   "cell_type": "code",
   "execution_count": 14,
   "metadata": {},
   "outputs": [],
   "source": [
    "titles,years = get_css_title_and_year(browser)"
   ]
  },
  {
   "cell_type": "code",
   "execution_count": 15,
   "metadata": {},
   "outputs": [],
   "source": [
    "get_next_page(browser)"
   ]
  },
  {
   "cell_type": "code",
   "execution_count": 16,
   "metadata": {},
   "outputs": [
    {
     "data": {
      "text/plain": [
       "[{'title': '2013 Toyota Tacoma PreRunner',\n",
       "  'year': '2013',\n",
       "  'price': '$21,875',\n",
       "  'miles': '35,188 mi.'},\n",
       " {'title': '2017 Toyota Tacoma TRD Off Road',\n",
       "  'year': '2017',\n",
       "  'price': '$25,995',\n",
       "  'miles': '36,497 mi.'},\n",
       " {'title': '2013 Toyota Tacoma PreRunner',\n",
       "  'year': '2013',\n",
       "  'price': '$17,400',\n",
       "  'miles': '69,105 mi.'},\n",
       " {'title': '2016 Toyota Tacoma SR5',\n",
       "  'year': '2016',\n",
       "  'price': '$23,998',\n",
       "  'miles': '35,579 mi.'},\n",
       " {'title': '2017 Toyota Tacoma Limited',\n",
       "  'year': '2017',\n",
       "  'price': '$28,350',\n",
       "  'miles': '37,607 mi.'},\n",
       " {'title': '2019 Toyota Tacoma SR',\n",
       "  'year': '2019',\n",
       "  'price': '$22,800',\n",
       "  'miles': '1,247 mi.'},\n",
       " {'title': '2015 Toyota Tacoma PreRunner',\n",
       "  'year': '2015',\n",
       "  'price': '$15,995',\n",
       "  'miles': '82,649 mi.'},\n",
       " {'title': '2010 Toyota Tacoma Access Cab',\n",
       "  'year': '2010',\n",
       "  'price': '$14,987',\n",
       "  'miles': '53,072 mi.'},\n",
       " {'title': '2017 Toyota Tacoma SR5',\n",
       "  'year': '2017',\n",
       "  'price': '$25,916',\n",
       "  'miles': '28,482 mi.'},\n",
       " {'title': '2017 Toyota Tacoma SR5',\n",
       "  'year': '2017',\n",
       "  'price': '$27,991',\n",
       "  'miles': '19,991 mi.'},\n",
       " {'title': '2018 Toyota Tacoma SR5',\n",
       "  'year': '2018',\n",
       "  'price': '$27,777',\n",
       "  'miles': '1,827 mi.'},\n",
       " {'title': '2018 Toyota Tacoma SR5',\n",
       "  'year': '2018',\n",
       "  'price': '$25,999',\n",
       "  'miles': '17,595 mi.'},\n",
       " {'title': '2016 Toyota Tacoma SR5',\n",
       "  'year': '2016',\n",
       "  'price': '$24,997',\n",
       "  'miles': '26,816 mi.'},\n",
       " {'title': '2009 Toyota Tacoma Double Cab',\n",
       "  'year': '2009',\n",
       "  'price': '$18,999',\n",
       "  'miles': '62,680 mi.'},\n",
       " {'title': '2018 Toyota Tacoma TRD Sport',\n",
       "  'year': '2018',\n",
       "  'price': '$28,478',\n",
       "  'miles': '8,731 mi.'},\n",
       " {'title': '2017 Toyota Tacoma SR5',\n",
       "  'year': '2017',\n",
       "  'price': '$23,800',\n",
       "  'miles': '13,556 mi.'},\n",
       " {'title': '2017 Toyota Tacoma TRD Pro',\n",
       "  'year': '2017',\n",
       "  'price': '$38,357',\n",
       "  'miles': '23,909 mi.'},\n",
       " {'title': '2013 Toyota Tacoma PreRunner',\n",
       "  'year': '2013',\n",
       "  'price': '$21,800',\n",
       "  'miles': '30,558 mi.'},\n",
       " {'title': '2012 Toyota Tacoma Base',\n",
       "  'year': '2012',\n",
       "  'price': '$11,000',\n",
       "  'miles': '69,902 mi.'},\n",
       " {'title': '2015 Toyota Tacoma PreRunner',\n",
       "  'year': '2015',\n",
       "  'price': '$19,195',\n",
       "  'miles': '42,693 mi.'}]"
      ]
     },
     "execution_count": 16,
     "metadata": {},
     "output_type": "execute_result"
    }
   ],
   "source": [
    "prep_lists_for_mongo(titles,years,prices,mileages)"
   ]
  },
  {
   "cell_type": "code",
   "execution_count": 17,
   "metadata": {},
   "outputs": [],
   "source": [
    "carbitrage_data = []\n",
    "for page in range(5):\n",
    "    prices = get_css_price(browser)\n",
    "    mileages = get_css_mileage(browser)\n",
    "    titles,years = get_css_title_and_year(browser)\n",
    "    get_next_page(browser)\n",
    "    carbitrage_data += prep_lists_for_mongo(titles,years,prices,mileages)\n",
    "    time.sleep(3 + random.random()*10)\n",
    "    "
   ]
  },
  {
   "cell_type": "code",
   "execution_count": 19,
   "metadata": {},
   "outputs": [
    {
     "data": {
      "text/plain": [
       "100"
      ]
     },
     "execution_count": 19,
     "metadata": {},
     "output_type": "execute_result"
    }
   ],
   "source": [
    "len(carbitrage_data)"
   ]
  },
  {
   "cell_type": "code",
   "execution_count": null,
   "metadata": {},
   "outputs": [],
   "source": []
  }
 ],
 "metadata": {
  "kernelspec": {
   "display_name": "learn-env",
   "language": "python",
   "name": "learn-env"
  },
  "language_info": {
   "codemirror_mode": {
    "name": "ipython",
    "version": 3
   },
   "file_extension": ".py",
   "mimetype": "text/x-python",
   "name": "python",
   "nbconvert_exporter": "python",
   "pygments_lexer": "ipython3",
   "version": "3.6.6"
  }
 },
 "nbformat": 4,
 "nbformat_minor": 2
}
